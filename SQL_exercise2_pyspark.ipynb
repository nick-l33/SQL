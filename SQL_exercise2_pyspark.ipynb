{
 "cells": [
  {
   "cell_type": "markdown",
   "metadata": {
    "id": "B77lk6zJr3-J"
   },
   "source": [
    "### **1. Setup Colab Environment to run SQL queries with PySpark**"
   ]
  },
  {
   "cell_type": "code",
   "execution_count": 1,
   "metadata": {
    "id": "_9rICI4i-I8U"
   },
   "outputs": [],
   "source": [
    "# !apt-get install openjdk-8-jdk-headless -qq > /dev/null\n",
    "# !wget -q http://archive.apache.org/dist/spark/spark-3.1.1/spark-3.1.1-bin-hadoop3.2.tgz\n",
    "# !tar xf spark-3.1.1-bin-hadoop3.2.tgz\n",
    "# !pip install -q findspark"
   ]
  },
  {
   "cell_type": "code",
   "execution_count": 2,
   "metadata": {
    "id": "Z3EuPX27-KYS"
   },
   "outputs": [],
   "source": [
    "import os\n",
    "os.environ[\"JAVA_HOME\"] = \"/usr/lib/jvm/java-8-openjdk-amd64\"\n",
    "os.environ[\"SPARK_HOME\"] = \"/content/spark-3.1.1-bin-hadoop3.2\""
   ]
  },
  {
   "cell_type": "code",
   "execution_count": 3,
   "metadata": {
    "colab": {
     "base_uri": "https://localhost:8080/"
    },
    "id": "t1PkgHBH-Kba",
    "outputId": "256c2ed9-010a-4e21-8220-14d1e0176dcd"
   },
   "outputs": [
    {
     "name": "stdout",
     "output_type": "stream",
     "text": [
      "sample_data  spark-3.1.1-bin-hadoop3.2\n"
     ]
    }
   ],
   "source": [
    "!ls"
   ]
  },
  {
   "cell_type": "code",
   "execution_count": 4,
   "metadata": {
    "colab": {
     "base_uri": "https://localhost:8080/",
     "height": 219
    },
    "id": "hqlvjSdm-KeZ",
    "outputId": "f1dcb14b-c2c8-4c2a-b6d0-c1a5697d074d"
   },
   "outputs": [
    {
     "data": {
      "text/html": [
       "\n",
       "            <div>\n",
       "                <p><b>SparkSession - in-memory</b></p>\n",
       "                \n",
       "        <div>\n",
       "            <p><b>SparkContext</b></p>\n",
       "\n",
       "            <p><a href=\"http://d83e4fbb92a8:4040\">Spark UI</a></p>\n",
       "\n",
       "            <dl>\n",
       "              <dt>Version</dt>\n",
       "                <dd><code>v3.1.1</code></dd>\n",
       "              <dt>Master</dt>\n",
       "                <dd><code>local[*]</code></dd>\n",
       "              <dt>AppName</dt>\n",
       "                <dd><code>pyspark-shell</code></dd>\n",
       "            </dl>\n",
       "        </div>\n",
       "        \n",
       "            </div>\n",
       "        "
      ],
      "text/plain": [
       "<pyspark.sql.session.SparkSession at 0x7f05f005d160>"
      ]
     },
     "execution_count": 4,
     "metadata": {},
     "output_type": "execute_result"
    }
   ],
   "source": [
    "import findspark\n",
    "findspark.init()\n",
    "from pyspark.sql import SparkSession\n",
    "spark = SparkSession.builder.master(\"local[*]\").getOrCreate()\n",
    "spark.conf.set(\"spark.sql.repl.eagerEval.enabled\", True) # Property used to format output tables better\n",
    "spark"
   ]
  },
  {
   "cell_type": "markdown",
   "metadata": {
    "id": "bNLnw5z7rsUx"
   },
   "source": [
    "### **2. Download Datasets and Store into Spark Dataframes for this exercise**"
   ]
  },
  {
   "cell_type": "code",
   "execution_count": 5,
   "metadata": {
    "colab": {
     "base_uri": "https://localhost:8080/"
    },
    "id": "1tbcHh_cKE1v",
    "outputId": "ed0a726b-ffba-4c08-bc62-d33532073156"
   },
   "outputs": [
    {
     "name": "stdout",
     "output_type": "stream",
     "text": [
      "--2023-02-22 12:07:31--  https://raw.githubusercontent.com/socratica/sql/master/earthquake.csv\n",
      "Resolving raw.githubusercontent.com (raw.githubusercontent.com)... 185.199.108.133, 185.199.109.133, 185.199.110.133, ...\n",
      "Connecting to raw.githubusercontent.com (raw.githubusercontent.com)|185.199.108.133|:443... connected.\n",
      "HTTP request sent, awaiting response... 200 OK\n",
      "Length: 2323215 (2.2M) [text/plain]\n",
      "Saving to: ‘earthquake.csv’\n",
      "\n",
      "\r",
      "earthquake.csv        0%[                    ]       0  --.-KB/s               \r",
      "earthquake.csv      100%[===================>]   2.21M  --.-KB/s    in 0.06s   \n",
      "\n",
      "2023-02-22 12:07:31 (38.5 MB/s) - ‘earthquake.csv’ saved [2323215/2323215]\n",
      "\n",
      "--2023-02-22 12:07:32--  https://jacobceles.github.io/knowledge_repo/colab_and_pyspark/cars.csv\n",
      "Resolving jacobceles.github.io (jacobceles.github.io)... 185.199.108.153, 185.199.109.153, 185.199.110.153, ...\n",
      "Connecting to jacobceles.github.io (jacobceles.github.io)|185.199.108.153|:443... connected.\n",
      "HTTP request sent, awaiting response... 301 Moved Permanently\n",
      "Location: https://jacobcelestine.com/knowledge_repo/colab_and_pyspark/cars.csv [following]\n",
      "--2023-02-22 12:07:32--  https://jacobcelestine.com/knowledge_repo/colab_and_pyspark/cars.csv\n",
      "Resolving jacobcelestine.com (jacobcelestine.com)... 185.199.108.153, 185.199.109.153, 185.199.110.153, ...\n",
      "Connecting to jacobcelestine.com (jacobcelestine.com)|185.199.108.153|:443... connected.\n",
      "HTTP request sent, awaiting response... 200 OK\n",
      "Length: 22608 (22K) [text/csv]\n",
      "Saving to: ‘cars.csv’\n",
      "\n",
      "cars.csv            100%[===================>]  22.08K  --.-KB/s    in 0s      \n",
      "\n",
      "2023-02-22 12:07:32 (68.4 MB/s) - ‘cars.csv’ saved [22608/22608]\n",
      "\n",
      "--2023-02-22 12:07:32--  https://raw.github.com/vincentarelbundock/Rdatasets/master/csv/Ecdat/BudgetUK.csv\n",
      "Resolving raw.github.com (raw.github.com)... 185.199.110.133, 185.199.109.133, 185.199.111.133, ...\n",
      "Connecting to raw.github.com (raw.github.com)|185.199.110.133|:443... connected.\n",
      "HTTP request sent, awaiting response... 301 Moved Permanently\n",
      "Location: https://raw.githubusercontent.com/vincentarelbundock/Rdatasets/master/csv/Ecdat/BudgetUK.csv [following]\n",
      "--2023-02-22 12:07:32--  https://raw.githubusercontent.com/vincentarelbundock/Rdatasets/master/csv/Ecdat/BudgetUK.csv\n",
      "Resolving raw.githubusercontent.com (raw.githubusercontent.com)... 185.199.108.133, 185.199.109.133, 185.199.110.133, ...\n",
      "Connecting to raw.githubusercontent.com (raw.githubusercontent.com)|185.199.108.133|:443... connected.\n",
      "HTTP request sent, awaiting response... 200 OK\n",
      "Length: 89097 (87K) [text/plain]\n",
      "Saving to: ‘BudgetUK.csv’\n",
      "\n",
      "BudgetUK.csv        100%[===================>]  87.01K  --.-KB/s    in 0.009s  \n",
      "\n",
      "2023-02-22 12:07:32 (9.39 MB/s) - ‘BudgetUK.csv’ saved [89097/89097]\n",
      "\n"
     ]
    }
   ],
   "source": [
    "!wget https://raw.githubusercontent.com/socratica/sql/master/earthquake.csv \n",
    "!wget https://jacobceles.github.io/knowledge_repo/colab_and_pyspark/cars.csv\n",
    "# !wget https://raw.githubusercontent.com/vincentarelbundock/Rdatasets/904227f6891e20b2bf74693e46032259edbf732f/csv/medicaldata/covid_testing.csv\n",
    "!wget https://raw.github.com/vincentarelbundock/Rdatasets/master/csv/Ecdat/BudgetUK.csv\n"
   ]
  },
  {
   "cell_type": "code",
   "execution_count": 6,
   "metadata": {
    "colab": {
     "base_uri": "https://localhost:8080/"
    },
    "id": "LWeTICuCj0MJ",
    "outputId": "883f99ff-e302-41d1-ea03-218ffb7f2f8b"
   },
   "outputs": [
    {
     "name": "stdout",
     "output_type": "stream",
     "text": [
      "root\n",
      " |-- earthquake_id: integer (nullable = true)\n",
      " |-- occurred_on: string (nullable = true)\n",
      " |-- latitude: double (nullable = true)\n",
      " |-- longitude: double (nullable = true)\n",
      " |-- depth: double (nullable = true)\n",
      " |-- magnitude: double (nullable = true)\n",
      " |-- calculation_method: string (nullable = true)\n",
      " |-- network_id: string (nullable = true)\n",
      " |-- place: string (nullable = true)\n",
      " |-- cause: string (nullable = true)\n",
      "\n"
     ]
    }
   ],
   "source": [
    "EQdf = spark.read.csv('/content/earthquake.csv', header=True, inferSchema=True)  \n",
    "                           # use inferSchema arg to infer proper data types of each cols (otherwise will populate string for all)\n",
    "EQdf.printSchema()"
   ]
  },
  {
   "cell_type": "code",
   "execution_count": 7,
   "metadata": {
    "colab": {
     "base_uri": "https://localhost:8080/"
    },
    "id": "RbYbBTGyj0O9",
    "outputId": "97b79df3-f13c-461c-bee9-ac722957e451"
   },
   "outputs": [
    {
     "name": "stdout",
     "output_type": "stream",
     "text": [
      "+-------------+-------------------+--------+---------+-----+---------+------------------+--------------------+--------------------+----------+\n",
      "|earthquake_id|        occurred_on|latitude|longitude|depth|magnitude|calculation_method|          network_id|               place|     cause|\n",
      "+-------------+-------------------+--------+---------+-----+---------+------------------+--------------------+--------------------+----------+\n",
      "|        15909| 2004-12-26 0:58:53|   3.295|   95.982| 30.0|      9.1|                mw|official200412260...|off the west coas...|earthquake|\n",
      "|        19328| 2011-03-11 5:46:24|  38.297|  142.373| 29.0|      9.1|               mww|official201103110...|near the east coa...|earthquake|\n",
      "|        18756| 2010-02-27 6:34:12| -36.122|  -72.898| 22.9|      8.8|               mww|official201002270...|offshore Bio-Bio,...|earthquake|\n",
      "|        16154|2005-03-28 16:09:37|   2.085|   97.108| 30.0|      8.6|               mww|official200503281...|northern Sumatra,...|earthquake|\n",
      "|        20044| 2012-04-11 8:38:37|   2.327|   93.063| 20.0|      8.6|                mw|official201204110...|off the west coas...|earthquake|\n",
      "|        14264|2001-06-23 20:33:14| -16.265|  -73.641| 33.0|      8.4|               mww|official200106232...|near the coast of...|earthquake|\n",
      "|        17440|2007-09-12 11:10:27|  -4.438|  101.367| 34.0|      8.4|               mww|official200709121...|southern Sumatra,...|earthquake|\n",
      "|         3285| 1977-08-19 6:08:55| -11.164|  118.378| 25.0|      8.3|                mw|        iscgem694739|south of Sumbawa,...|earthquake|\n",
      "|        16936|2006-11-15 11:14:14|  46.592|  153.266| 10.0|      8.3|               mwc|          usp000exfn|       Kuril Islands|earthquake|\n",
      "|        10950|1994-10-04 13:22:56|  43.773|  147.321| 14.0|      8.3|                mw|          usp0006kdp|       Kuril Islands|earthquake|\n",
      "+-------------+-------------------+--------+---------+-----+---------+------------------+--------------------+--------------------+----------+\n",
      "\n"
     ]
    }
   ],
   "source": [
    "EQdf.where('magnitude > 6').orderBy(['magnitude'], ascending=False).limit(10).show()  \n",
    "                                                  # sort and orderBy only take keyword ascending and default is True"
   ]
  },
  {
   "cell_type": "code",
   "execution_count": 8,
   "metadata": {
    "colab": {
     "base_uri": "https://localhost:8080/"
    },
    "id": "M3qcMnCPj0Rq",
    "outputId": "5d090180-d9c9-419d-f799-29b0d4dd49a2"
   },
   "outputs": [
    {
     "name": "stdout",
     "output_type": "stream",
     "text": [
      "+-------------+-------------------+--------+---------+-----+---------+------------------+--------------------+--------------------+----------+\n",
      "|earthquake_id|        occurred_on|latitude|longitude|depth|magnitude|calculation_method|          network_id|               place|     cause|\n",
      "+-------------+-------------------+--------+---------+-----+---------+------------------+--------------------+--------------------+----------+\n",
      "|        15909| 2004-12-26 0:58:53|   3.295|   95.982| 30.0|      9.1|                mw|official200412260...|off the west coas...|earthquake|\n",
      "|        19328| 2011-03-11 5:46:24|  38.297|  142.373| 29.0|      9.1|               mww|official201103110...|near the east coa...|earthquake|\n",
      "|        18756| 2010-02-27 6:34:12| -36.122|  -72.898| 22.9|      8.8|               mww|official201002270...|offshore Bio-Bio,...|earthquake|\n",
      "|        16154|2005-03-28 16:09:37|   2.085|   97.108| 30.0|      8.6|               mww|official200503281...|northern Sumatra,...|earthquake|\n",
      "|        20044| 2012-04-11 8:38:37|   2.327|   93.063| 20.0|      8.6|                mw|official201204110...|off the west coas...|earthquake|\n",
      "|        14264|2001-06-23 20:33:14| -16.265|  -73.641| 33.0|      8.4|               mww|official200106232...|near the coast of...|earthquake|\n",
      "|        17440|2007-09-12 11:10:27|  -4.438|  101.367| 34.0|      8.4|               mww|official200709121...|southern Sumatra,...|earthquake|\n",
      "|         3285| 1977-08-19 6:08:55| -11.164|  118.378| 25.0|      8.3|                mw|        iscgem694739|south of Sumbawa,...|earthquake|\n",
      "|        16936|2006-11-15 11:14:14|  46.592|  153.266| 10.0|      8.3|               mwc|          usp000exfn|       Kuril Islands|earthquake|\n",
      "|        10950|1994-10-04 13:22:56|  43.773|  147.321| 14.0|      8.3|                mw|          usp0006kdp|       Kuril Islands|earthquake|\n",
      "+-------------+-------------------+--------+---------+-----+---------+------------------+--------------------+--------------------+----------+\n",
      "\n"
     ]
    }
   ],
   "source": [
    "# create temp table view within the spark session to use .sql method and pass the usual SQL query syntax as string arg\n",
    "EQdf.createOrReplaceTempView('EQdf')\n",
    "spark.sql(\"SELECT * FROM EQdf WHERE magnitude>6 ORDER BY magnitude DESC LIMIT 10\").show()  \n",
    "                    # use TempView table to perform SQL style queries "
   ]
  },
  {
   "cell_type": "code",
   "execution_count": 9,
   "metadata": {
    "colab": {
     "base_uri": "https://localhost:8080/"
    },
    "id": "pDfmm3Qjj0Wn",
    "outputId": "7d3d859a-b37d-46e2-a67c-5b27aa8bd384"
   },
   "outputs": [
    {
     "name": "stdout",
     "output_type": "stream",
     "text": [
      "+-------------+-------------------+--------+---------+-----+---------+------------------+------------+--------------------+----------+\n",
      "|earthquake_id|        occurred_on|latitude|longitude|depth|magnitude|calculation_method|  network_id|               place|     cause|\n",
      "+-------------+-------------------+--------+---------+-----+---------+------------------+------------+--------------------+----------+\n",
      "|        20808| 2013-11-25 7:21:18|-53.8708| -53.9107|14.83|      6.0|               mwc|  usb000l633|South Atlantic Ocean|earthquake|\n",
      "|         8629|1990-01-06 21:44:56| -10.681|   92.987| 14.8|      6.0|                mw|  usp00043z4|  South Indian Ocean|earthquake|\n",
      "|          527| 1970-07-29 5:50:58|  39.802|   77.679| 14.7|      6.0|                mw|iscgem794098|southern Xinjiang...|earthquake|\n",
      "|         9683|1992-04-08 13:36:56| -16.784|   168.31| 14.3|      6.0|                mw|  usp00055gp|             Vanuatu|earthquake|\n",
      "|        15820| 2004-10-27 1:40:50|  37.284|  138.885| 14.1|      6.0|               mwb|  usp000d75k|near the west coa...|earthquake|\n",
      "+-------------+-------------------+--------+---------+-----+---------+------------------+------------+--------------------+----------+\n",
      "\n"
     ]
    }
   ],
   "source": [
    "EQdf.where((EQdf.magnitude==6) & (EQdf.depth<15)).sort(['depth'], ascending=False).limit(5).show()"
   ]
  },
  {
   "cell_type": "code",
   "execution_count": 10,
   "metadata": {
    "colab": {
     "base_uri": "https://localhost:8080/"
    },
    "id": "8VW-U0g4j0UK",
    "outputId": "238239d5-1b70-460d-dd94-58057dca29a6"
   },
   "outputs": [
    {
     "name": "stdout",
     "output_type": "stream",
     "text": [
      "+-------------+-------------------+--------+---------+-----+---------+------------------+------------+--------------------+----------+\n",
      "|earthquake_id|        occurred_on|latitude|longitude|depth|magnitude|calculation_method|  network_id|               place|     cause|\n",
      "+-------------+-------------------+--------+---------+-----+---------+------------------+------------+--------------------+----------+\n",
      "|        20808| 2013-11-25 7:21:18|-53.8708| -53.9107|14.83|      6.0|               mwc|  usb000l633|South Atlantic Ocean|earthquake|\n",
      "|         8629|1990-01-06 21:44:56| -10.681|   92.987| 14.8|      6.0|                mw|  usp00043z4|  South Indian Ocean|earthquake|\n",
      "|          527| 1970-07-29 5:50:58|  39.802|   77.679| 14.7|      6.0|                mw|iscgem794098|southern Xinjiang...|earthquake|\n",
      "|         9683|1992-04-08 13:36:56| -16.784|   168.31| 14.3|      6.0|                mw|  usp00055gp|             Vanuatu|earthquake|\n",
      "|        15820| 2004-10-27 1:40:50|  37.284|  138.885| 14.1|      6.0|               mwb|  usp000d75k|near the west coa...|earthquake|\n",
      "+-------------+-------------------+--------+---------+-----+---------+------------------+------------+--------------------+----------+\n",
      "\n"
     ]
    }
   ],
   "source": [
    "spark.sql(\"SELECT * FROM EQdf WHERE ((magnitude == 6) AND (depth < 15 )) ORDER BY depth DESC LIMIT 5\").show()\n",
    "                     # .sql method use sql operators for multiple filtering conditions"
   ]
  },
  {
   "cell_type": "code",
   "execution_count": 11,
   "metadata": {
    "colab": {
     "base_uri": "https://localhost:8080/"
    },
    "id": "7gyOQpmDj0ZR",
    "outputId": "9e87a735-2863-45ab-944b-ce7eb720a9ef"
   },
   "outputs": [
    {
     "name": "stdout",
     "output_type": "stream",
     "text": [
      "406\n"
     ]
    },
    {
     "data": {
      "text/plain": [
       "[Row(Car='Ford Mustang GL', MPG=27.0, Cylinders=4, Displacement=140.0, Horsepower=86.0, Weight=Decimal('2790'), Acceleration=15.6, Model=82, Origin='US'),\n",
       " Row(Car='Volkswagen Pickup', MPG=44.0, Cylinders=4, Displacement=97.0, Horsepower=52.0, Weight=Decimal('2130'), Acceleration=24.6, Model=82, Origin='Europe'),\n",
       " Row(Car='Dodge Rampage', MPG=32.0, Cylinders=4, Displacement=135.0, Horsepower=84.0, Weight=Decimal('2295'), Acceleration=11.6, Model=82, Origin='US'),\n",
       " Row(Car='Ford Ranger', MPG=28.0, Cylinders=4, Displacement=120.0, Horsepower=79.0, Weight=Decimal('2625'), Acceleration=18.6, Model=82, Origin='US'),\n",
       " Row(Car='Chevy S-10', MPG=31.0, Cylinders=4, Displacement=119.0, Horsepower=82.0, Weight=Decimal('2720'), Acceleration=19.4, Model=82, Origin='US')]"
      ]
     },
     "execution_count": 11,
     "metadata": {},
     "output_type": "execute_result"
    }
   ],
   "source": [
    "car = spark.read.csv('/content/cars.csv', header=True, sep=';', inferSchema=True)\n",
    "print(car.count())\n",
    "car.tail(5)"
   ]
  },
  {
   "cell_type": "code",
   "execution_count": 12,
   "metadata": {
    "colab": {
     "base_uri": "https://localhost:8080/",
     "height": 511
    },
    "id": "IwjAPstoj0cT",
    "outputId": "e679d22d-f78d-40fd-a554-0ad4cea42d03"
   },
   "outputs": [
    {
     "data": {
      "text/html": [
       "<table border='1'>\n",
       "<tr><th>Model</th><th>Cylinders</th><th>avg(MPG)</th><th>avg(Horsepower)</th><th>avg(Acceleration)</th></tr>\n",
       "<tr><td>70</td><td>4</td><td>22.125</td><td>91.125</td><td>16.1875</td></tr>\n",
       "<tr><td>70</td><td>6</td><td>20.5</td><td>91.75</td><td>15.5</td></tr>\n",
       "<tr><td>70</td><td>8</td><td>11.043478260869565</td><td>178.8695652173913</td><td>11.021739130434783</td></tr>\n",
       "<tr><td>71</td><td>4</td><td>25.5</td><td>69.92857142857143</td><td>17.178571428571427</td></tr>\n",
       "<tr><td>71</td><td>6</td><td>18.0</td><td>98.875</td><td>14.75</td></tr>\n",
       "<tr><td>71</td><td>8</td><td>13.428571428571429</td><td>166.85714285714286</td><td>12.214285714285714</td></tr>\n",
       "<tr><td>72</td><td>3</td><td>19.0</td><td>97.0</td><td>13.5</td></tr>\n",
       "<tr><td>72</td><td>4</td><td>23.428571428571427</td><td>85.14285714285714</td><td>17.214285714285715</td></tr>\n",
       "<tr><td>72</td><td>8</td><td>13.615384615384615</td><td>159.69230769230768</td><td>13.0</td></tr>\n",
       "<tr><td>73</td><td>3</td><td>18.0</td><td>90.0</td><td>13.5</td></tr>\n",
       "<tr><td>73</td><td>4</td><td>22.727272727272727</td><td>82.9090909090909</td><td>17.136363636363637</td></tr>\n",
       "<tr><td>73</td><td>6</td><td>19.0</td><td>102.125</td><td>15.6875</td></tr>\n",
       "<tr><td>73</td><td>8</td><td>13.2</td><td>170.0</td><td>12.25</td></tr>\n",
       "<tr><td>74</td><td>4</td><td>27.8</td><td>74.0</td><td>16.4</td></tr>\n",
       "<tr><td>74</td><td>6</td><td>17.857142857142858</td><td>87.14285714285714</td><td>16.857142857142858</td></tr>\n",
       "<tr><td>74</td><td>8</td><td>14.2</td><td>146.0</td><td>14.7</td></tr>\n",
       "<tr><td>75</td><td>4</td><td>25.25</td><td>84.91666666666667</td><td>15.833333333333334</td></tr>\n",
       "<tr><td>75</td><td>6</td><td>17.583333333333332</td><td>96.75</td><td>17.708333333333332</td></tr>\n",
       "<tr><td>75</td><td>8</td><td>15.666666666666666</td><td>142.0</td><td>13.166666666666666</td></tr>\n",
       "<tr><td>76</td><td>4</td><td>26.766666666666666</td><td>75.6</td><td>16.866666666666664</td></tr>\n",
       "</table>\n",
       "only showing top 20 rows\n"
      ],
      "text/plain": [
       "+-----+---------+------------------+------------------+------------------+\n",
       "|Model|Cylinders|          avg(MPG)|   avg(Horsepower)| avg(Acceleration)|\n",
       "+-----+---------+------------------+------------------+------------------+\n",
       "|   70|        4|            22.125|            91.125|           16.1875|\n",
       "|   70|        6|              20.5|             91.75|              15.5|\n",
       "|   70|        8|11.043478260869565| 178.8695652173913|11.021739130434783|\n",
       "|   71|        4|              25.5| 69.92857142857143|17.178571428571427|\n",
       "|   71|        6|              18.0|            98.875|             14.75|\n",
       "|   71|        8|13.428571428571429|166.85714285714286|12.214285714285714|\n",
       "|   72|        3|              19.0|              97.0|              13.5|\n",
       "|   72|        4|23.428571428571427| 85.14285714285714|17.214285714285715|\n",
       "|   72|        8|13.615384615384615|159.69230769230768|              13.0|\n",
       "|   73|        3|              18.0|              90.0|              13.5|\n",
       "|   73|        4|22.727272727272727|  82.9090909090909|17.136363636363637|\n",
       "|   73|        6|              19.0|           102.125|           15.6875|\n",
       "|   73|        8|              13.2|             170.0|             12.25|\n",
       "|   74|        4|              27.8|              74.0|              16.4|\n",
       "|   74|        6|17.857142857142858| 87.14285714285714|16.857142857142858|\n",
       "|   74|        8|              14.2|             146.0|              14.7|\n",
       "|   75|        4|             25.25| 84.91666666666667|15.833333333333334|\n",
       "|   75|        6|17.583333333333332|             96.75|17.708333333333332|\n",
       "|   75|        8|15.666666666666666|             142.0|13.166666666666666|\n",
       "|   76|        4|26.766666666666666|              75.6|16.866666666666664|\n",
       "+-----+---------+------------------+------------------+------------------+\n",
       "only showing top 20 rows"
      ]
     },
     "execution_count": 12,
     "metadata": {},
     "output_type": "execute_result"
    }
   ],
   "source": [
    "car.groupby('Model','Cylinders').agg({'MPG':'avg','Horsepower':'avg','Acceleration':'avg'}).sort('Model','Cylinders')"
   ]
  },
  {
   "cell_type": "code",
   "execution_count": 13,
   "metadata": {
    "colab": {
     "base_uri": "https://localhost:8080/",
     "height": 511
    },
    "id": "18atEGg7aA_Z",
    "outputId": "787d35a3-52bf-4ec3-e794-bc64734750e9"
   },
   "outputs": [
    {
     "data": {
      "text/html": [
       "<table border='1'>\n",
       "<tr><th>Model</th><th>Cylinders</th><th>avg(MPG)</th><th>avg(Horsepower)</th><th>avg(Acceleration)</th></tr>\n",
       "<tr><td>70</td><td>4</td><td>22.125</td><td>91.125</td><td>16.1875</td></tr>\n",
       "<tr><td>70</td><td>6</td><td>20.5</td><td>91.75</td><td>15.5</td></tr>\n",
       "<tr><td>70</td><td>8</td><td>11.043478260869565</td><td>178.8695652173913</td><td>11.021739130434783</td></tr>\n",
       "<tr><td>71</td><td>4</td><td>25.5</td><td>69.92857142857143</td><td>17.178571428571427</td></tr>\n",
       "<tr><td>71</td><td>6</td><td>18.0</td><td>98.875</td><td>14.75</td></tr>\n",
       "<tr><td>71</td><td>8</td><td>13.428571428571429</td><td>166.85714285714286</td><td>12.214285714285714</td></tr>\n",
       "<tr><td>72</td><td>3</td><td>19.0</td><td>97.0</td><td>13.5</td></tr>\n",
       "<tr><td>72</td><td>4</td><td>23.428571428571427</td><td>85.14285714285714</td><td>17.214285714285715</td></tr>\n",
       "<tr><td>72</td><td>8</td><td>13.615384615384615</td><td>159.69230769230768</td><td>13.0</td></tr>\n",
       "<tr><td>73</td><td>3</td><td>18.0</td><td>90.0</td><td>13.5</td></tr>\n",
       "<tr><td>73</td><td>4</td><td>22.727272727272727</td><td>82.9090909090909</td><td>17.136363636363637</td></tr>\n",
       "<tr><td>73</td><td>6</td><td>19.0</td><td>102.125</td><td>15.6875</td></tr>\n",
       "<tr><td>73</td><td>8</td><td>13.2</td><td>170.0</td><td>12.25</td></tr>\n",
       "<tr><td>74</td><td>4</td><td>27.8</td><td>74.0</td><td>16.4</td></tr>\n",
       "<tr><td>74</td><td>6</td><td>17.857142857142858</td><td>87.14285714285714</td><td>16.857142857142858</td></tr>\n",
       "<tr><td>74</td><td>8</td><td>14.2</td><td>146.0</td><td>14.7</td></tr>\n",
       "<tr><td>75</td><td>4</td><td>25.25</td><td>84.91666666666667</td><td>15.833333333333334</td></tr>\n",
       "<tr><td>75</td><td>6</td><td>17.583333333333332</td><td>96.75</td><td>17.708333333333332</td></tr>\n",
       "<tr><td>75</td><td>8</td><td>15.666666666666666</td><td>142.0</td><td>13.166666666666666</td></tr>\n",
       "<tr><td>76</td><td>4</td><td>26.766666666666666</td><td>75.6</td><td>16.866666666666664</td></tr>\n",
       "</table>\n",
       "only showing top 20 rows\n"
      ],
      "text/plain": [
       "+-----+---------+------------------+------------------+------------------+\n",
       "|Model|Cylinders|          avg(MPG)|   avg(Horsepower)| avg(Acceleration)|\n",
       "+-----+---------+------------------+------------------+------------------+\n",
       "|   70|        4|            22.125|            91.125|           16.1875|\n",
       "|   70|        6|              20.5|             91.75|              15.5|\n",
       "|   70|        8|11.043478260869565| 178.8695652173913|11.021739130434783|\n",
       "|   71|        4|              25.5| 69.92857142857143|17.178571428571427|\n",
       "|   71|        6|              18.0|            98.875|             14.75|\n",
       "|   71|        8|13.428571428571429|166.85714285714286|12.214285714285714|\n",
       "|   72|        3|              19.0|              97.0|              13.5|\n",
       "|   72|        4|23.428571428571427| 85.14285714285714|17.214285714285715|\n",
       "|   72|        8|13.615384615384615|159.69230769230768|              13.0|\n",
       "|   73|        3|              18.0|              90.0|              13.5|\n",
       "|   73|        4|22.727272727272727|  82.9090909090909|17.136363636363637|\n",
       "|   73|        6|              19.0|           102.125|           15.6875|\n",
       "|   73|        8|              13.2|             170.0|             12.25|\n",
       "|   74|        4|              27.8|              74.0|              16.4|\n",
       "|   74|        6|17.857142857142858| 87.14285714285714|16.857142857142858|\n",
       "|   74|        8|              14.2|             146.0|              14.7|\n",
       "|   75|        4|             25.25| 84.91666666666667|15.833333333333334|\n",
       "|   75|        6|17.583333333333332|             96.75|17.708333333333332|\n",
       "|   75|        8|15.666666666666666|             142.0|13.166666666666666|\n",
       "|   76|        4|26.766666666666666|              75.6|16.866666666666664|\n",
       "+-----+---------+------------------+------------------+------------------+\n",
       "only showing top 20 rows"
      ]
     },
     "execution_count": 13,
     "metadata": {},
     "output_type": "execute_result"
    }
   ],
   "source": [
    "car.groupBy('Model','Cylinders').avg('MPG','Horsepower','Acceleration').sort('Model','Cylinders')"
   ]
  },
  {
   "cell_type": "code",
   "execution_count": 14,
   "metadata": {
    "colab": {
     "base_uri": "https://localhost:8080/"
    },
    "id": "UlGZaDXubA4c",
    "outputId": "50eee944-c0c1-4bff-ff8f-eeda4c7aee68"
   },
   "outputs": [
    {
     "name": "stdout",
     "output_type": "stream",
     "text": [
      "-0.5224515124210515 \n",
      " -0.7355626558680717 \n",
      " 0.8234670042496819\n"
     ]
    }
   ],
   "source": [
    "print(car.corr('Cylinders','Acceleration'), '\\n', \n",
    "      car.corr('Cylinders','MPG'), '\\n',\n",
    "      car.corr('Cylinders','Horsepower'))"
   ]
  },
  {
   "cell_type": "code",
   "execution_count": 15,
   "metadata": {
    "colab": {
     "base_uri": "https://localhost:8080/",
     "height": 268
    },
    "id": "-M0sACYI-KhQ",
    "outputId": "bf3b814b-9e8f-48d5-f1aa-0d9b8661b56c"
   },
   "outputs": [
    {
     "data": {
      "text/html": [
       "<table border='1'>\n",
       "<tr><th>_c0</th><th>wfood</th><th>wfuel</th><th>wcloth</th><th>walc</th><th>wtrans</th><th>wother</th><th>totexp</th><th>income</th><th>age</th><th>children</th></tr>\n",
       "<tr><td>1</td><td>0.4272</td><td>0.1342</td><td>0.0</td><td>0.0106</td><td>0.1458</td><td>0.2822</td><td>50</td><td>130</td><td>25</td><td>2</td></tr>\n",
       "<tr><td>2</td><td>0.3739</td><td>0.1686</td><td>0.0091</td><td>0.0825</td><td>0.1215</td><td>0.2444</td><td>90</td><td>150</td><td>39</td><td>2</td></tr>\n",
       "<tr><td>3</td><td>0.1941</td><td>0.4056</td><td>0.0012</td><td>0.0513</td><td>0.2063</td><td>0.1415</td><td>180</td><td>230</td><td>47</td><td>2</td></tr>\n",
       "<tr><td>4</td><td>0.4438</td><td>0.1258</td><td>0.0539</td><td>0.0397</td><td>0.0652</td><td>0.2716</td><td>80</td><td>100</td><td>33</td><td>2</td></tr>\n",
       "<tr><td>5</td><td>0.3331</td><td>0.0824</td><td>0.0399</td><td>0.1571</td><td>0.2403</td><td>0.1473</td><td>90</td><td>100</td><td>31</td><td>1</td></tr>\n",
       "<tr><td>6</td><td>0.3752</td><td>0.0481</td><td>0.117</td><td>0.021</td><td>0.0955</td><td>0.3431</td><td>70</td><td>70</td><td>24</td><td>1</td></tr>\n",
       "<tr><td>7</td><td>0.2568</td><td>0.0909</td><td>0.0453</td><td>0.0153</td><td>0.0227</td><td>0.5689</td><td>140</td><td>190</td><td>46</td><td>1</td></tr>\n",
       "<tr><td>8</td><td>0.4533</td><td>0.2105</td><td>0.1131</td><td>0.0161</td><td>0.0</td><td>0.207</td><td>50</td><td>100</td><td>25</td><td>1</td></tr>\n",
       "<tr><td>9</td><td>0.3279</td><td>0.1053</td><td>0.1671</td><td>0.0293</td><td>0.0433</td><td>0.3272</td><td>100</td><td>260</td><td>30</td><td>1</td></tr>\n",
       "<tr><td>10</td><td>0.4608</td><td>0.0612</td><td>0.023</td><td>0.0338</td><td>0.1901</td><td>0.231</td><td>90</td><td>110</td><td>41</td><td>1</td></tr>\n",
       "</table>\n"
      ],
      "text/plain": [
       "+---+------+------+------+------+------+------+------+------+---+--------+\n",
       "|_c0| wfood| wfuel|wcloth|  walc|wtrans|wother|totexp|income|age|children|\n",
       "+---+------+------+------+------+------+------+------+------+---+--------+\n",
       "|  1|0.4272|0.1342|   0.0|0.0106|0.1458|0.2822|    50|   130| 25|       2|\n",
       "|  2|0.3739|0.1686|0.0091|0.0825|0.1215|0.2444|    90|   150| 39|       2|\n",
       "|  3|0.1941|0.4056|0.0012|0.0513|0.2063|0.1415|   180|   230| 47|       2|\n",
       "|  4|0.4438|0.1258|0.0539|0.0397|0.0652|0.2716|    80|   100| 33|       2|\n",
       "|  5|0.3331|0.0824|0.0399|0.1571|0.2403|0.1473|    90|   100| 31|       1|\n",
       "|  6|0.3752|0.0481| 0.117| 0.021|0.0955|0.3431|    70|    70| 24|       1|\n",
       "|  7|0.2568|0.0909|0.0453|0.0153|0.0227|0.5689|   140|   190| 46|       1|\n",
       "|  8|0.4533|0.2105|0.1131|0.0161|   0.0| 0.207|    50|   100| 25|       1|\n",
       "|  9|0.3279|0.1053|0.1671|0.0293|0.0433|0.3272|   100|   260| 30|       1|\n",
       "| 10|0.4608|0.0612| 0.023|0.0338|0.1901| 0.231|    90|   110| 41|       1|\n",
       "+---+------+------+------+------+------+------+------+------+---+--------+"
      ]
     },
     "execution_count": 15,
     "metadata": {},
     "output_type": "execute_result"
    }
   ],
   "source": [
    "budget = spark.read.csv('/content/BudgetUK.csv', header=True, inferSchema=True)\n",
    "budget.limit(10)"
   ]
  },
  {
   "cell_type": "code",
   "execution_count": 16,
   "metadata": {
    "colab": {
     "base_uri": "https://localhost:8080/"
    },
    "id": "FVukRPt4Ryy5",
    "outputId": "c5d50649-7bd5-46dd-9706-1bdb598f000d"
   },
   "outputs": [
    {
     "data": {
      "text/plain": [
       "1519"
      ]
     },
     "execution_count": 16,
     "metadata": {},
     "output_type": "execute_result"
    }
   ],
   "source": [
    "budget.count()"
   ]
  },
  {
   "cell_type": "code",
   "execution_count": 18,
   "metadata": {
    "colab": {
     "base_uri": "https://localhost:8080/"
    },
    "id": "JHof7FSxRy2V",
    "outputId": "ca8811f9-9241-4268-9d61-babe4b0e4cb9"
   },
   "outputs": [
    {
     "name": "stdout",
     "output_type": "stream",
     "text": [
      "0.4487403479324104 \n",
      " 0.2184940446284285 \n",
      " 0.18945071841034233 \n",
      " 0.008092094758592572 \n",
      " 0.025439105020058497 \n",
      " 0.07141528176731633\n"
     ]
    }
   ],
   "source": [
    "print(budget.corr('income','totexp'),'\\n', \n",
    "      budget.corr('age','income'),'\\n',\n",
    "      budget.corr('age','totexp'),'\\n',\n",
    "      budget.corr('age','children'),'\\n',\n",
    "      budget.corr('income','children'),'\\n',\n",
    "      budget.corr('children','totexp')\n",
    "      )"
   ]
  },
  {
   "cell_type": "code",
   "execution_count": 19,
   "metadata": {
    "colab": {
     "base_uri": "https://localhost:8080/"
    },
    "id": "vf9yyOOQCLKD",
    "outputId": "a16b00f1-f9bc-4cef-d5de-4eb3e08c0a18"
   },
   "outputs": [
    {
     "name": "stdout",
     "output_type": "stream",
     "text": [
      "-0.23466673649177305 \n",
      " -0.028700702561703238 \n",
      " 0.07343379091366131 \n",
      " 0.03894605861711469 \n",
      " 0.008442806796694105 \n",
      " 0.1533707200514744\n"
     ]
    }
   ],
   "source": [
    "print(budget.corr('income','wfood'),'\\n', \n",
    "      budget.corr('income','wfuel'),'\\n',\n",
    "      budget.corr('income','wcloth'),'\\n',\n",
    "      budget.corr('income','walc'),'\\n',\n",
    "      budget.corr('income','wtrans'),'\\n',\n",
    "      budget.corr('income','wother')\n",
    "      )"
   ]
  },
  {
   "cell_type": "code",
   "execution_count": 20,
   "metadata": {
    "colab": {
     "base_uri": "https://localhost:8080/"
    },
    "id": "X1r5q_WrCp-8",
    "outputId": "b94d7ef6-edb1-4d03-adc2-67dad3c5d855"
   },
   "outputs": [
    {
     "name": "stdout",
     "output_type": "stream",
     "text": [
      "0.021403727996632888 \n",
      " -0.039518423637423604 \n",
      " 0.035377204639060945 \n",
      " -0.1433995887179236 \n",
      " 0.02692876149417738 \n",
      " 0.02606428805055384\n"
     ]
    }
   ],
   "source": [
    "print(budget.corr('age','wfood'),'\\n', \n",
    "      budget.corr('age','wfuel'),'\\n',\n",
    "      budget.corr('age','wcloth'),'\\n',\n",
    "      budget.corr('age','walc'),'\\n',\n",
    "      budget.corr('age','wtrans'),'\\n',\n",
    "      budget.corr('age','wother')\n",
    "      )"
   ]
  },
  {
   "cell_type": "markdown",
   "metadata": {
    "id": "Ts4SoSpfwhBA"
   },
   "source": [
    "**References:**\n",
    "1. https://www.youtube.com/watch?v=3-pnWVWyH-s&list=PPSV; https://jacobceles.github.io/knowledge_repo/colab_and_pyspark/cars.csv\n",
    "2. https://www.youtube.com/watch?v=YufocuHbYZo&list=PPSV; https://www.youtube.com/watch?v=PkJKzR_sClM; https://raw.githubusercontent.com/socratica/sql/master/earthquake.csv\n",
    "3. https://www.youtube.com/watch?v=2qz3mDt1ibI&t=307s\n",
    "4. https://spark.apache.org/docs/latest/api/python/reference/index.html"
   ]
  },
  {
   "cell_type": "code",
   "execution_count": 17,
   "metadata": {
    "id": "JXQjqEJOcCHT"
   },
   "outputs": [],
   "source": []
  }
 ],
 "metadata": {
  "colab": {
   "provenance": []
  },
  "kernelspec": {
   "display_name": "Python 3",
   "language": "python",
   "name": "python3"
  },
  "language_info": {
   "codemirror_mode": {
    "name": "ipython",
    "version": 3
   },
   "file_extension": ".py",
   "mimetype": "text/x-python",
   "name": "python",
   "nbconvert_exporter": "python",
   "pygments_lexer": "ipython3",
   "version": "3.8.5"
  }
 },
 "nbformat": 4,
 "nbformat_minor": 1
}
